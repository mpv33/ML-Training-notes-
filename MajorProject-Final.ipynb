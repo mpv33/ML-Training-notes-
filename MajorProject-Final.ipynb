{
 "cells": [
  {
   "cell_type": "code",
   "execution_count": null,
   "metadata": {},
   "outputs": [],
   "source": [
    "import pandas as pd\n",
    "import numpy as np"
   ]
  },
  {
   "cell_type": "code",
   "execution_count": null,
   "metadata": {},
   "outputs": [],
   "source": [
    "user_data = pd.read_csv('user_data.csv')\n",
    "ads_data = pd.read_csv('ads_data.csv')\n",
    "user_messages = pd.read_csv('user_messages.csv')"
   ]
  },
  {
   "cell_type": "code",
   "execution_count": null,
   "metadata": {},
   "outputs": [],
   "source": [
    "# convert to datetime fields to standard datetime format\n",
    "import datetime as dt\n",
    "user_data['event_time'] = pd.to_datetime(user_data['event_time']).map(dt.datetime.toordinal)\n",
    "ads_data['creation_time'] = pd.to_datetime(ads_data['creation_time']).map(dt.datetime.toordinal)\n"
   ]
  },
  {
   "cell_type": "code",
   "execution_count": null,
   "metadata": {},
   "outputs": [],
   "source": [
    "# label encoding of categorical fields\n",
    "from sklearn import preprocessing\n",
    "le = preprocessing.LabelEncoder()\n",
    "le.fit(user_data['event'])\n",
    "le_name_mapping = dict(zip(le.classes_, le.transform(le.classes_)))\n",
    "#print(le_name_mapping) \n",
    "user_data['event'] = le.fit(user_data['event']).transform(user_data['event'])"
   ]
  },
  {
   "cell_type": "code",
   "execution_count": null,
   "metadata": {},
   "outputs": [],
   "source": [
    "le = preprocessing.LabelEncoder()\n",
    "le.fit(user_data['channel'])\n",
    "le_name_mapping = dict(zip(le.classes_, le.transform(le.classes_)))\n",
    "#print(le_name_mapping)\n",
    "user_data['channel'] = le.fit(user_data['channel']).transform(user_data['channel'])"
   ]
  },
  {
   "cell_type": "code",
   "execution_count": null,
   "metadata": {},
   "outputs": [],
   "source": [
    "combined = pd.merge(user_data, ads_data, on='ad_id')"
   ]
  },
  {
   "cell_type": "code",
   "execution_count": null,
   "metadata": {},
   "outputs": [],
   "source": [
    "# generating output label\n",
    "user_ad_dict = {}\n",
    "for index, row in user_messages.iterrows():\n",
    "    ads = row['ads'].replace('[','').replace(']','').split(',') \n",
    "    for ad in ads:\n",
    "        user_ad_dict[str(row['user_id']) + '|' + str(ad)] = 1\n",
    "        \n",
    "def isRecommended(row):\n",
    "    return user_ad_dict.get(str(row['user_id']) + '|' + str(row['ad_id']),0)\n",
    "\n",
    "combined['isRecommended'] = combined.apply(isRecommended, axis = 1)"
   ]
  },
  {
   "cell_type": "code",
   "execution_count": null,
   "metadata": {},
   "outputs": [],
   "source": [
    "#  sort user data \n",
    "combined.sort_values('event_time',inplace=True)"
   ]
  },
  {
   "cell_type": "markdown",
   "metadata": {},
   "source": [
    "# Recommending the most popular"
   ]
  },
  {
   "cell_type": "code",
   "execution_count": null,
   "metadata": {},
   "outputs": [],
   "source": [
    "df = user_data[['ad_id','ad_messages']].groupby('ad_id', as_index=False).agg('count')\n",
    "most_popular_ads = df.nlargest(10,['ad_messages'])['ad_id'].tolist()"
   ]
  },
  {
   "cell_type": "code",
   "execution_count": null,
   "metadata": {},
   "outputs": [],
   "source": [
    "sub1 = user_messages \n",
    "sub1['recommend'] = str(most_popular_ads)\n",
    "sub1.head()"
   ]
  },
  {
   "cell_type": "markdown",
   "metadata": {},
   "source": [
    "# Model Evaluation"
   ]
  },
  {
   "cell_type": "code",
   "execution_count": null,
   "metadata": {},
   "outputs": [],
   "source": [
    "def evaluate_accuracy(df):\n",
    "    \n",
    "    count = 0\n",
    "    for index, row in df.iterrows():\n",
    "        ads = row['ads'].replace('[','').replace(']','').split(',')\n",
    "        recommended_ads = row['recommend'].replace('[','').replace(']','').split(',')\n",
    "        \n",
    "        for ad in ads:\n",
    "            if (ad in recommended_ads):\n",
    "                count = count + 1\n",
    "                \n",
    "    return count\n",
    "                "
   ]
  },
  {
   "cell_type": "code",
   "execution_count": null,
   "metadata": {},
   "outputs": [],
   "source": [
    "def evaluate_precision(df):\n",
    "    \n",
    "    score = 0\n",
    "    for index, row in df.iterrows():\n",
    "        count = 0\n",
    "        ads = row['ads'].replace('[','').replace(']','').split(',')\n",
    "        recommended_ads = row['recommend'].replace('[','').replace(']','').split(',')\n",
    "        \n",
    "        for i in range(0, len(recommended_ads)):\n",
    "            if (recommended_ads[i] in ads):\n",
    "                count = count + 1\n",
    "                score = score + count\n",
    "        \n",
    "        #print(ads, \":\", recommended_ads,\":\" ,score)\n",
    "        score = 1.0*score/len(ads)\n",
    "        \n",
    "                \n",
    "    return score\n",
    "                "
   ]
  },
  {
   "cell_type": "code",
   "execution_count": null,
   "metadata": {},
   "outputs": [],
   "source": [
    "print('accuracy of model 1 : ',evaluate_accuracy(sub1))\n",
    "print('precision of model 1 : ',evaluate_precision(sub1))"
   ]
  },
  {
   "cell_type": "markdown",
   "metadata": {},
   "source": [
    "# Recommending category-wise most popular elements"
   ]
  },
  {
   "cell_type": "code",
   "execution_count": null,
   "metadata": {},
   "outputs": [],
   "source": [
    "df = user_data[['ad_id','ad_views']].groupby('ad_id', as_index=False).agg('sum')\n",
    "most_popular_ads = df.nlargest(10,['ad_views'])['ad_id'].tolist()"
   ]
  },
  {
   "cell_type": "code",
   "execution_count": null,
   "metadata": {},
   "outputs": [],
   "source": [
    "df1 = user_data[['ad_id','ad_views']]\n",
    "df2 = ads_data[['ad_id','category_id']]\n",
    "merged_data = pd.merge(df1, df2, on='ad_id')"
   ]
  },
  {
   "cell_type": "code",
   "execution_count": null,
   "metadata": {},
   "outputs": [],
   "source": [
    "most_popular_ads_catwise = merged_data.groupby(['category_id','ad_id'], as_index=False).agg('count')"
   ]
  },
  {
   "cell_type": "code",
   "execution_count": null,
   "metadata": {},
   "outputs": [],
   "source": [
    "df = most_popular_ads_catwise\n",
    "cats = df.category_id.unique()\n",
    "cats"
   ]
  },
  {
   "cell_type": "code",
   "execution_count": null,
   "metadata": {},
   "outputs": [],
   "source": [
    "cat_dict = {}\n",
    "for cat in cats:\n",
    "    df1 = df[df['category_id']==cat]\n",
    "    cat_dict[cat] = df1.nlargest(10,['ad_views'])['ad_id'].tolist()\n",
    "    \n",
    "print(cat_dict)"
   ]
  },
  {
   "cell_type": "code",
   "execution_count": null,
   "metadata": {},
   "outputs": [],
   "source": [
    "def catWisePopular(row):\n",
    "    return str(cat_dict[row['category_id']])\n",
    "\n",
    "sub2 = user_messages \n",
    "sub2['recommend'] = sub2.apply(catWisePopular, axis = 1)\n",
    "sub2.head()"
   ]
  },
  {
   "cell_type": "code",
   "execution_count": null,
   "metadata": {},
   "outputs": [],
   "source": [
    "print('accuracy of model 2 : ',evaluate_accuracy(sub2))\n",
    "print('precision of model 2 : ',evaluate_precision(sub2))"
   ]
  },
  {
   "cell_type": "markdown",
   "metadata": {},
   "source": [
    "# Classifaction based model"
   ]
  },
  {
   "cell_type": "code",
   "execution_count": null,
   "metadata": {},
   "outputs": [],
   "source": [
    "#columns = [col for col in combined.columns if col not in ['user_lat', \n",
    "#'user_long', 'lat', 'long', 'title', 'description', 'origin', 'source']]\n",
    "\n",
    "#combined = combined[columns]"
   ]
  },
  {
   "cell_type": "code",
   "execution_count": null,
   "metadata": {},
   "outputs": [],
   "source": [
    "import numpy as np\n",
    "combined = combined.replace([np.inf, -np.inf], np.nan)\n",
    "combined = combined.fillna(0)"
   ]
  },
  {
   "cell_type": "code",
   "execution_count": null,
   "metadata": {},
   "outputs": [],
   "source": [
    "from sklearn.model_selection import train_test_split\n",
    "train, val = train_test_split(combined, test_size = 0.2, random_state = 0)"
   ]
  },
  {
   "cell_type": "code",
   "execution_count": null,
   "metadata": {},
   "outputs": [],
   "source": [
    "features = ['lat','user_lat']\n",
    "from sklearn.tree import DecisionTreeClassifier\n",
    "from sklearn.metrics import accuracy_score\n",
    "\n",
    "clf = DecisionTreeClassifier(random_state=0, max_depth=1)\n",
    "clf.fit(train[features], train['isRecommended'])\n",
    "\n",
    "combined['pred'] = clf.predict(combined[features])\n",
    "print(\"Traning Accuracy :\" + str(accuracy_score(train['isRecommended'], clf.predict(train[features]))))\n",
    "print(\"Validation Accuracy :\" + str(accuracy_score(val['isRecommended'], clf.predict(val[features]))))\n"
   ]
  },
  {
   "cell_type": "code",
   "execution_count": null,
   "metadata": {},
   "outputs": [],
   "source": [
    "personalized_dict = {}\n",
    "counter = 0\n",
    "for index, row in combined[combined['pred']==1].iterrows():\n",
    "    key = str(row['user_id']) + \"|\" + str(row['category_id'])\n",
    "    personalized_dict[key] = personalized_dict.get(key,[])\n",
    "    personalized_dict[key].add(row['ad_id'])"
   ]
  },
  {
   "cell_type": "markdown",
   "metadata": {},
   "source": [
    "# Merged Approach"
   ]
  },
  {
   "cell_type": "code",
   "execution_count": null,
   "metadata": {},
   "outputs": [],
   "source": [
    "user_dict_view = {}\n",
    "user_dict_fmsg = {}\n",
    "counter = 0\n",
    "for index, row in user_data.iterrows():\n",
    "    counter = counter + 1\n",
    "    if (counter%100000==0):\n",
    "        print(counter)\n",
    "    if (row['event']=='first_message'):\n",
    "        user_dict_fmsg[row['user_id']] = user_dict_fmsg.get(row['user_id'],[])\n",
    "        user_dict_fmsg[row['user_id']].add('ad_id')\n",
    "    if (row['event']=='view'):\n",
    "        user_dict_view[row['user_id']] = user_dict_view.get(row['user_id'],[])\n",
    "        user_dict_view[row['user_id']].add('ad_id')\n",
    "    "
   ]
  },
  {
   "cell_type": "code",
   "execution_count": null,
   "metadata": {},
   "outputs": [],
   "source": [
    "def getRecommendations(row):\n",
    "    user = str(row['user_id'])\n",
    "    cat = str(row['category_id'])\n",
    "    \n",
    "    personalized_ads = personalized_dict.get(user+ '|'+cat,[])\n",
    "    user_most_viewed = user_dict_view.get(int(user),[])\n",
    "    user_messaged = user_dict_fmsg.get(int(user),[])\n",
    "    \n",
    "    most_popular = cat_dict[row['category_id']]\n",
    "    \n",
    "    allAds = user_most_viewed + personalized_ads + user_messaged + most_popular\n",
    "    # here we can write some scoring logic for choosing the one to recommend among these\n",
    "    return str(allAds[0:10])\n",
    "    "
   ]
  },
  {
   "cell_type": "code",
   "execution_count": null,
   "metadata": {},
   "outputs": [],
   "source": [
    "sub = user_messages \n",
    "sub['recommend'] = sub.apply(catWisePopular, axis = 1)\n",
    "\n",
    "print('accuracy of model : ',evaluate_accuracy(sub))\n",
    "print('precision of model : ',evaluate_precision(sub))"
   ]
  },
  {
   "cell_type": "code",
   "execution_count": null,
   "metadata": {},
   "outputs": [],
   "source": []
  }
 ],
 "metadata": {
  "kernelspec": {
   "display_name": "Python 3",
   "language": "python",
   "name": "python3"
  },
  "language_info": {
   "codemirror_mode": {
    "name": "ipython",
    "version": 3
   },
   "file_extension": ".py",
   "mimetype": "text/x-python",
   "name": "python",
   "nbconvert_exporter": "python",
   "pygments_lexer": "ipython3",
   "version": "3.7.3"
  }
 },
 "nbformat": 4,
 "nbformat_minor": 2
}
