{
 "cells": [
  {
   "cell_type": "markdown",
   "metadata": {},
   "source": [
    "#  Print  statement used:"
   ]
  },
  {
   "cell_type": "code",
   "execution_count": 6,
   "metadata": {},
   "outputs": [
    {
     "name": "stdout",
     "output_type": "stream",
     "text": [
      "first is 10 and second is mpv\n"
     ]
    }
   ],
   "source": [
    "a=10\n",
    "b='mpv'\n",
    "print('first is %d and second is %s' %(a,b))"
   ]
  },
  {
   "cell_type": "code",
   "execution_count": 7,
   "metadata": {},
   "outputs": [
    {
     "name": "stdout",
     "output_type": "stream",
     "text": [
      "sum of these:10mpv\n"
     ]
    }
   ],
   "source": [
    "print('sum of these:' + str(a) +b)"
   ]
  },
  {
   "cell_type": "markdown",
   "metadata": {},
   "source": [
    "# functions:"
   ]
  },
  {
   "cell_type": "code",
   "execution_count": 8,
   "metadata": {},
   "outputs": [
    {
     "name": "stdout",
     "output_type": "stream",
     "text": [
      "25\n"
     ]
    }
   ],
   "source": [
    "square=lambda x :x*x\n",
    "print(square(5))"
   ]
  },
  {
   "cell_type": "code",
   "execution_count": 9,
   "metadata": {
    "scrolled": false
   },
   "outputs": [
    {
     "data": {
      "text/html": [
       "<div>\n",
       "<style scoped>\n",
       "    .dataframe tbody tr th:only-of-type {\n",
       "        vertical-align: middle;\n",
       "    }\n",
       "\n",
       "    .dataframe tbody tr th {\n",
       "        vertical-align: top;\n",
       "    }\n",
       "\n",
       "    .dataframe thead th {\n",
       "        text-align: right;\n",
       "    }\n",
       "</style>\n",
       "<table border=\"1\" class=\"dataframe\">\n",
       "  <thead>\n",
       "    <tr style=\"text-align: right;\">\n",
       "      <th></th>\n",
       "      <th>dt</th>\n",
       "      <th>counta</th>\n",
       "      <th>countab</th>\n",
       "    </tr>\n",
       "  </thead>\n",
       "  <tbody>\n",
       "    <tr>\n",
       "      <th>0</th>\n",
       "      <td>20160101</td>\n",
       "      <td>53250</td>\n",
       "      <td>53251</td>\n",
       "    </tr>\n",
       "    <tr>\n",
       "      <th>1</th>\n",
       "      <td>20160102</td>\n",
       "      <td>80980</td>\n",
       "      <td>80981</td>\n",
       "    </tr>\n",
       "    <tr>\n",
       "      <th>2</th>\n",
       "      <td>20160103</td>\n",
       "      <td>106575</td>\n",
       "      <td>106576</td>\n",
       "    </tr>\n",
       "    <tr>\n",
       "      <th>3</th>\n",
       "      <td>20160104</td>\n",
       "      <td>443041</td>\n",
       "      <td>443042</td>\n",
       "    </tr>\n",
       "    <tr>\n",
       "      <th>4</th>\n",
       "      <td>20160105</td>\n",
       "      <td>457737</td>\n",
       "      <td>457738</td>\n",
       "    </tr>\n",
       "  </tbody>\n",
       "</table>\n",
       "</div>"
      ],
      "text/plain": [
       "         dt  counta  countab\n",
       "0  20160101   53250    53251\n",
       "1  20160102   80980    80981\n",
       "2  20160103  106575   106576\n",
       "3  20160104  443041   443042\n",
       "4  20160105  457737   457738"
      ]
     },
     "execution_count": 9,
     "metadata": {},
     "output_type": "execute_result"
    }
   ],
   "source": [
    "import pandas as pd\n",
    "df=pd.read_csv(r\"C:\\Users\\beni computer\\Desktop\\Geeks_lab\\test.csv\")\n",
    "df.head()"
   ]
  },
  {
   "cell_type": "code",
   "execution_count": 10,
   "metadata": {},
   "outputs": [
    {
     "data": {
      "text/plain": [
       "dt         791\n",
       "counta     791\n",
       "countab    791\n",
       "dtype: int64"
      ]
     },
     "execution_count": 10,
     "metadata": {},
     "output_type": "execute_result"
    }
   ],
   "source": [
    "df.count()"
   ]
  },
  {
   "cell_type": "code",
   "execution_count": 17,
   "metadata": {},
   "outputs": [],
   "source": [
    "a=df['counta']\n",
    "b=df['countab']"
   ]
  },
  {
   "cell_type": "code",
   "execution_count": 23,
   "metadata": {},
   "outputs": [
    {
     "data": {
      "image/png": "[encoded data removed]",
      "text/plain": [
       "<Figure size 432x288 with 1 Axes>"
      ]
     },
     "metadata": {
      "needs_background": "light"
     },
     "output_type": "display_data"
    }
   ],
   "source": [
    "import matplotlib.pyplot as plt \n",
    "plt.plot(a,b)\n",
    "plt.show()"
   ]
  },
  {
   "cell_type": "code",
   "execution_count": 24,
   "metadata": {},
   "outputs": [],
   "source": [
    "df['countab']=df['counta']+1"
   ]
  },
  {
   "cell_type": "code",
   "execution_count": 25,
   "metadata": {},
   "outputs": [
    {
     "data": {
      "text/html": [
       "<div>\n",
       "<style scoped>\n",
       "    .dataframe tbody tr th:only-of-type {\n",
       "        vertical-align: middle;\n",
       "    }\n",
       "\n",
       "    .dataframe tbody tr th {\n",
       "        vertical-align: top;\n",
       "    }\n",
       "\n",
       "    .dataframe thead th {\n",
       "        text-align: right;\n",
       "    }\n",
       "</style>\n",
       "<table border=\"1\" class=\"dataframe\">\n",
       "  <thead>\n",
       "    <tr style=\"text-align: right;\">\n",
       "      <th></th>\n",
       "      <th>dt</th>\n",
       "      <th>counta</th>\n",
       "      <th>countab</th>\n",
       "    </tr>\n",
       "  </thead>\n",
       "  <tbody>\n",
       "    <tr>\n",
       "      <th>0</th>\n",
       "      <td>20160101</td>\n",
       "      <td>53250</td>\n",
       "      <td>53251</td>\n",
       "    </tr>\n",
       "    <tr>\n",
       "      <th>1</th>\n",
       "      <td>20160102</td>\n",
       "      <td>80980</td>\n",
       "      <td>80981</td>\n",
       "    </tr>\n",
       "    <tr>\n",
       "      <th>2</th>\n",
       "      <td>20160103</td>\n",
       "      <td>106575</td>\n",
       "      <td>106576</td>\n",
       "    </tr>\n",
       "    <tr>\n",
       "      <th>3</th>\n",
       "      <td>20160104</td>\n",
       "      <td>443041</td>\n",
       "      <td>443042</td>\n",
       "    </tr>\n",
       "    <tr>\n",
       "      <th>4</th>\n",
       "      <td>20160105</td>\n",
       "      <td>457737</td>\n",
       "      <td>457738</td>\n",
       "    </tr>\n",
       "  </tbody>\n",
       "</table>\n",
       "</div>"
      ],
      "text/plain": [
       "         dt  counta  countab\n",
       "0  20160101   53250    53251\n",
       "1  20160102   80980    80981\n",
       "2  20160103  106575   106576\n",
       "3  20160104  443041   443042\n",
       "4  20160105  457737   457738"
      ]
     },
     "execution_count": 25,
     "metadata": {},
     "output_type": "execute_result"
    }
   ],
   "source": [
    "df.head()"
   ]
  },
  {
   "cell_type": "code",
   "execution_count": 26,
   "metadata": {},
   "outputs": [
    {
     "data": {
      "text/plain": [
       "0    106501\n",
       "1    161961\n",
       "2    213151\n",
       "3    886083\n",
       "4    915475\n",
       "dtype: int64"
      ]
     },
     "execution_count": 26,
     "metadata": {},
     "output_type": "execute_result"
    }
   ],
   "source": [
    "def foo(x):\n",
    "    return x[1]+x[2]\n",
    "df.apply(foo,axis=1).head()"
   ]
  },
  {
   "cell_type": "code",
   "execution_count": 28,
   "metadata": {
    "scrolled": true
   },
   "outputs": [
    {
     "data": {
      "text/plain": [
       "Text(0, 0.5, 'demand ratio')"
      ]
     },
     "execution_count": 28,
     "metadata": {},
     "output_type": "execute_result"
    },
    {
     "data": {
      "image/png": "[encoded data removed]",
      "text/plain": [
       "<Figure size 432x288 with 1 Axes>"
      ]
     },
     "metadata": {
      "needs_background": "light"
     },
     "output_type": "display_data"
    }
   ],
   "source": [
    "import matplotlib.pyplot as plt \n",
    "import numpy as np\n",
    "ob=['python','c++','java','perl','scale']\n",
    "cost=[11,8,5,3,2]\n",
    "plt.bar(ob,cost,color='r')\n",
    "plt.title('programming language demand')\n",
    "plt.xlabel('languges')\n",
    "plt.ylabel('demand ratio')\n",
    "\n",
    "\n",
    "\n",
    "\n",
    "\n"
   ]
  },
  {
   "cell_type": "code",
   "execution_count": 29,
   "metadata": {},
   "outputs": [
    {
     "data": {
      "text/plain": [
       "<matplotlib.collections.PathCollection at 0xad66cf8>"
      ]
     },
     "execution_count": 29,
     "metadata": {},
     "output_type": "execute_result"
    },
    {
     "data": {
      "image/png": "[encoded data removed]",
      "text/plain": [
       "<Figure size 432x288 with 1 Axes>"
      ]
     },
     "metadata": {
      "needs_background": "light"
     },
     "output_type": "display_data"
    }
   ],
   "source": [
    "np.random.seed(19680801)\n",
    "n=50\n",
    "x=np.random.rand(n)\n",
    "y=np.random.rand(n)\n",
    "#print(x)\n",
    "#print(y)\n",
    "colors=np.random.rand(n)\n",
    "area=(30*np.random.rand(n))**2  \n",
    "\n",
    "plt.scatter(x,y,c=colors,s=area,alpha=1.0)"
   ]
  },
  {
   "cell_type": "code",
   "execution_count": 30,
   "metadata": {
    "scrolled": true
   },
   "outputs": [
    {
     "data": {
      "text/html": [
       "<div>\n",
       "<style scoped>\n",
       "    .dataframe tbody tr th:only-of-type {\n",
       "        vertical-align: middle;\n",
       "    }\n",
       "\n",
       "    .dataframe tbody tr th {\n",
       "        vertical-align: top;\n",
       "    }\n",
       "\n",
       "    .dataframe thead th {\n",
       "        text-align: right;\n",
       "    }\n",
       "</style>\n",
       "<table border=\"1\" class=\"dataframe\">\n",
       "  <thead>\n",
       "    <tr style=\"text-align: right;\">\n",
       "      <th></th>\n",
       "      <th>Year Type</th>\n",
       "      <th>Year</th>\n",
       "      <th>Organization Group Code</th>\n",
       "      <th>Organization Group</th>\n",
       "      <th>Department Code</th>\n",
       "      <th>Department</th>\n",
       "      <th>Union Code</th>\n",
       "      <th>Union</th>\n",
       "      <th>Job Family Code</th>\n",
       "      <th>Job Family</th>\n",
       "      <th>...</th>\n",
       "      <th>Employee Identifier</th>\n",
       "      <th>Salaries</th>\n",
       "      <th>Overtime</th>\n",
       "      <th>Other Salaries</th>\n",
       "      <th>Total Salary</th>\n",
       "      <th>Retirement</th>\n",
       "      <th>Health and Dental</th>\n",
       "      <th>Other Benefits</th>\n",
       "      <th>Total Benefits</th>\n",
       "      <th>Total Compensation</th>\n",
       "    </tr>\n",
       "  </thead>\n",
       "  <tbody>\n",
       "    <tr>\n",
       "      <th>0</th>\n",
       "      <td>Calendar</td>\n",
       "      <td>2028</td>\n",
       "      <td>1</td>\n",
       "      <td>Public Protection</td>\n",
       "      <td>CRT</td>\n",
       "      <td>NaN</td>\n",
       "      <td>792</td>\n",
       "      <td>Utd Pub EmpL790 SEIU-Crt Clrks</td>\n",
       "      <td>0</td>\n",
       "      <td>Untitled</td>\n",
       "      <td>...</td>\n",
       "      <td>8540990</td>\n",
       "      <td>674.28</td>\n",
       "      <td>0.00</td>\n",
       "      <td>5.76</td>\n",
       "      <td>680.04</td>\n",
       "      <td>130.91</td>\n",
       "      <td>0.00</td>\n",
       "      <td>53.86</td>\n",
       "      <td>184.77</td>\n",
       "      <td>864.81</td>\n",
       "    </tr>\n",
       "    <tr>\n",
       "      <th>1</th>\n",
       "      <td>Calendar</td>\n",
       "      <td>2028</td>\n",
       "      <td>7</td>\n",
       "      <td>General City Responsibilities</td>\n",
       "      <td>229259</td>\n",
       "      <td>NaN</td>\n",
       "      <td>792</td>\n",
       "      <td>Utd Pub EmpL790 SEIU-Crt Clrks</td>\n",
       "      <td>0</td>\n",
       "      <td>Untitled</td>\n",
       "      <td>...</td>\n",
       "      <td>8540990</td>\n",
       "      <td>674.28</td>\n",
       "      <td>0.00</td>\n",
       "      <td>5.76</td>\n",
       "      <td>680.04</td>\n",
       "      <td>130.91</td>\n",
       "      <td>0.00</td>\n",
       "      <td>53.86</td>\n",
       "      <td>184.77</td>\n",
       "      <td>864.81</td>\n",
       "    </tr>\n",
       "    <tr>\n",
       "      <th>2</th>\n",
       "      <td>Fiscal</td>\n",
       "      <td>2028</td>\n",
       "      <td>1</td>\n",
       "      <td>Public Protection</td>\n",
       "      <td>CRT</td>\n",
       "      <td>NaN</td>\n",
       "      <td>792</td>\n",
       "      <td>Utd Pub EmpL790 SEIU-Crt Clrks</td>\n",
       "      <td>0</td>\n",
       "      <td>Untitled</td>\n",
       "      <td>...</td>\n",
       "      <td>8540990</td>\n",
       "      <td>674.28</td>\n",
       "      <td>0.00</td>\n",
       "      <td>5.76</td>\n",
       "      <td>680.04</td>\n",
       "      <td>130.91</td>\n",
       "      <td>0.00</td>\n",
       "      <td>53.86</td>\n",
       "      <td>184.77</td>\n",
       "      <td>864.81</td>\n",
       "    </tr>\n",
       "    <tr>\n",
       "      <th>3</th>\n",
       "      <td>Calendar</td>\n",
       "      <td>2019</td>\n",
       "      <td>4</td>\n",
       "      <td>Community Health</td>\n",
       "      <td>DPH</td>\n",
       "      <td>NaN</td>\n",
       "      <td>790</td>\n",
       "      <td>SEIU, Local 1021, Misc</td>\n",
       "      <td>2900</td>\n",
       "      <td>Human Services</td>\n",
       "      <td>...</td>\n",
       "      <td>8591323</td>\n",
       "      <td>92573.00</td>\n",
       "      <td>0.00</td>\n",
       "      <td>1392.00</td>\n",
       "      <td>93965.00</td>\n",
       "      <td>17962.21</td>\n",
       "      <td>11935.78</td>\n",
       "      <td>7355.30</td>\n",
       "      <td>51920.63</td>\n",
       "      <td>145885.63</td>\n",
       "    </tr>\n",
       "    <tr>\n",
       "      <th>4</th>\n",
       "      <td>Calendar</td>\n",
       "      <td>2019</td>\n",
       "      <td>1</td>\n",
       "      <td>Public Protection</td>\n",
       "      <td>POL</td>\n",
       "      <td>NaN</td>\n",
       "      <td>911</td>\n",
       "      <td>POA</td>\n",
       "      <td>Q000</td>\n",
       "      <td>Police Services</td>\n",
       "      <td>...</td>\n",
       "      <td>8506994</td>\n",
       "      <td>48130.15</td>\n",
       "      <td>4020.76</td>\n",
       "      <td>1756.75</td>\n",
       "      <td>53907.66</td>\n",
       "      <td>4079.05</td>\n",
       "      <td>1719.46</td>\n",
       "      <td>875.26</td>\n",
       "      <td>21608.57</td>\n",
       "      <td>75516.23</td>\n",
       "    </tr>\n",
       "  </tbody>\n",
       "</table>\n",
       "<p>5 rows × 22 columns</p>\n",
       "</div>"
      ],
      "text/plain": [
       "  Year Type  Year  Organization Group Code             Organization Group  \\\n",
       "0  Calendar  2028                        1              Public Protection   \n",
       "1  Calendar  2028                        7  General City Responsibilities   \n",
       "2    Fiscal  2028                        1              Public Protection   \n",
       "3  Calendar  2019                        4               Community Health   \n",
       "4  Calendar  2019                        1              Public Protection   \n",
       "\n",
       "  Department Code  Department  Union Code                           Union  \\\n",
       "0             CRT         NaN         792  Utd Pub EmpL790 SEIU-Crt Clrks   \n",
       "1          229259         NaN         792  Utd Pub EmpL790 SEIU-Crt Clrks   \n",
       "2             CRT         NaN         792  Utd Pub EmpL790 SEIU-Crt Clrks   \n",
       "3             DPH         NaN         790          SEIU, Local 1021, Misc   \n",
       "4             POL         NaN         911                             POA   \n",
       "\n",
       "  Job Family Code       Job Family  ... Employee Identifier  Salaries  \\\n",
       "0               0         Untitled  ...             8540990    674.28   \n",
       "1               0         Untitled  ...             8540990    674.28   \n",
       "2               0         Untitled  ...             8540990    674.28   \n",
       "3            2900   Human Services  ...             8591323  92573.00   \n",
       "4            Q000  Police Services  ...             8506994  48130.15   \n",
       "\n",
       "   Overtime  Other Salaries  Total Salary  Retirement  Health and Dental  \\\n",
       "0      0.00            5.76        680.04      130.91               0.00   \n",
       "1      0.00            5.76        680.04      130.91               0.00   \n",
       "2      0.00            5.76        680.04      130.91               0.00   \n",
       "3      0.00         1392.00      93965.00    17962.21           11935.78   \n",
       "4   4020.76         1756.75      53907.66     4079.05            1719.46   \n",
       "\n",
       "   Other Benefits  Total Benefits  Total Compensation  \n",
       "0           53.86          184.77              864.81  \n",
       "1           53.86          184.77              864.81  \n",
       "2           53.86          184.77              864.81  \n",
       "3         7355.30        51920.63           145885.63  \n",
       "4          875.26        21608.57            75516.23  \n",
       "\n",
       "[5 rows x 22 columns]"
      ]
     },
     "execution_count": 30,
     "metadata": {},
     "output_type": "execute_result"
    }
   ],
   "source": [
    "df1=pd.read_csv(r\"C:\\Users\\beni computer\\Desktop\\Geeks_lab\\employee.csv\")\n",
    "df1.head()"
   ]
  },
  {
   "cell_type": "code",
   "execution_count": 31,
   "metadata": {},
   "outputs": [
    {
     "name": "stdout",
     "output_type": "stream",
     "text": [
      "sum of total competance: 181918970.12\n",
      "avg total competance:  108933.51504191617\n",
      "max total competance: 441657.02\n"
     ]
    }
   ],
   "source": [
    "#  avg total compensation on this csv \n",
    "# sum of total compensations\n",
    "# max total compensations\n",
    "# department code with the hightest sum of total compensations\n",
    "# avg salary of each job code\n",
    "n=df1.count().iloc[2]\n",
    "s=df1['Total Compensation'].sum()\n",
    "print('sum of total competance:',s)\n",
    "avg=s/n\n",
    "print('avg total competance: ',avg)\n",
    "m=df1['Total Compensation'].max()\n",
    "print('max total competance:',m)\n"
   ]
  },
  {
   "cell_type": "code",
   "execution_count": null,
   "metadata": {},
   "outputs": [],
   "source": []
  }
 ],
 "metadata": {
  "kernelspec": {
   "display_name": "Python 3",
   "language": "python",
   "name": "python3"
  },
  "language_info": {
   "codemirror_mode": {
    "name": "ipython",
    "version": 3
   },
   "file_extension": ".py",
   "mimetype": "text/x-python",
   "name": "python",
   "nbconvert_exporter": "python",
   "pygments_lexer": "ipython3",
   "version": "3.7.3"
  }
 },
 "nbformat": 4,
 "nbformat_minor": 2
}
