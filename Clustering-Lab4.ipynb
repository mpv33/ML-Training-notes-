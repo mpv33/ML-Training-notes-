{
 "cells": [
  {
   "cell_type": "markdown",
   "metadata": {
    "collapsed": true
   },
   "source": [
    "# Clustering 2D points via K-Means Algorithm"
   ]
  },
  {
   "cell_type": "code",
   "execution_count": 1,
   "metadata": {},
   "outputs": [],
   "source": [
    "import math\n",
    "import random"
   ]
  },
  {
   "cell_type": "code",
   "execution_count": 2,
   "metadata": {},
   "outputs": [],
   "source": [
    "'''\n",
    "Lets first define a class for representing a point \n",
    "     - an array coords consisting of coordinates in the n-d representation of the points \n",
    "     - an integer n denoting the dimension\n",
    "'''\n",
    "\n",
    "class Point(object):\n",
    "    '''\n",
    "    A point in n dimensional space\n",
    "    '''\n",
    "    def __init__(self, coords):\n",
    "        '''\n",
    "        coords - A list of values, one per dimension\n",
    "        '''\n",
    "\n",
    "        self.coords = coords\n",
    "        self.n = len(coords)\n",
    "\n",
    "    def __repr__(self):\n",
    "        return str(self.coords)"
   ]
  },
  {
   "cell_type": "code",
   "execution_count": 3,
   "metadata": {},
   "outputs": [
    {
     "name": "stdout",
     "output_type": "stream",
     "text": [
      "[2, 3]\n",
      "[2, 3]\n",
      "2\n"
     ]
    }
   ],
   "source": [
    "p = Point([2,3])\n",
    "print(p)\n",
    "print(p.coords)\n",
    "print(p.n)"
   ]
  },
  {
   "cell_type": "code",
   "execution_count": 4,
   "metadata": {},
   "outputs": [
    {
     "data": {
      "text/plain": [
       "[5.198895717289689, 3.3784629292787125]"
      ]
     },
     "execution_count": 4,
     "metadata": {},
     "output_type": "execute_result"
    }
   ],
   "source": [
    "def makeRandomPoint(n, lower, upper):\n",
    "    '''\n",
    "    Returns a Point object with n dimensions and values between lower and\n",
    "    upper in each of those dimensions\n",
    "    '''\n",
    "    p = Point([random.uniform(lower, upper) for _ in range(n)])\n",
    "    return p\n",
    "\n",
    "makeRandomPoint(2,0,10)"
   ]
  },
  {
   "cell_type": "code",
   "execution_count": 5,
   "metadata": {},
   "outputs": [],
   "source": [
    "def getDistance(a, b):\n",
    "    '''\n",
    "    Euclidean distance between two n-dimensional points.\n",
    "    '''\n",
    "    if a.n != b.n:\n",
    "        raise Exception(\"ERROR: non comparable points\")\n",
    "\n",
    "    accumulatedDifference = 0.0\n",
    "    for i in range(a.n):\n",
    "        squareDifference = pow((a.coords[i]-b.coords[i]), 2)\n",
    "        accumulatedDifference += squareDifference\n",
    "    distance = math.sqrt(accumulatedDifference)\n",
    "\n",
    "    return distance"
   ]
  },
  {
   "cell_type": "code",
   "execution_count": 6,
   "metadata": {},
   "outputs": [
    {
     "data": {
      "text/plain": [
       "9.778891757249388"
      ]
     },
     "execution_count": 6,
     "metadata": {},
     "output_type": "execute_result"
    }
   ],
   "source": [
    "#Assigment 1\n",
    "a = [8.957, 6.936]\n",
    "b = [0.189, 2.606]\n",
    "getDistance(Point(a),Point(b))"
   ]
  },
  {
   "cell_type": "code",
   "execution_count": 7,
   "metadata": {},
   "outputs": [
    {
     "data": {
      "text/plain": [
       "2.082467069392876"
      ]
     },
     "execution_count": 7,
     "metadata": {},
     "output_type": "execute_result"
    }
   ],
   "source": [
    "# Assigment 2\n",
    "a = makeRandomPoint(2,0,10)\n",
    "b = makeRandomPoint(2,0,10)\n",
    "getDistance(a,b)\n"
   ]
  },
  {
   "cell_type": "code",
   "execution_count": 8,
   "metadata": {},
   "outputs": [],
   "source": [
    "'''\n",
    "Another class for representing a point \n",
    "     - an array points of Point objects discussed above \n",
    "     - an integer n denoting the dimension of the points (assuming it to be the same for all the points)\n",
    "     - a Point object centroid, defining the center of the cluster\n",
    "     - a method calculateCentroid, that computes the center of the current cluster\n",
    "     - a method updateCentroid, to update the centroid and return the shift seen\n",
    "'''\n",
    "\n",
    "class Cluster(object):\n",
    "    '''\n",
    "    A set of points and their centroid\n",
    "    '''\n",
    "\n",
    "    def __init__(self, points):\n",
    "        '''\n",
    "        points - A list of point objects\n",
    "        '''\n",
    "\n",
    "        if len(points) == 0:\n",
    "            raise Exception(\"ERROR: empty cluster\")\n",
    "\n",
    "        # The points that belong to this cluster\n",
    "        self.points = points\n",
    "\n",
    "        # The dimensionality of the points in this cluster\n",
    "        self.n = points[0].n\n",
    "\n",
    "        # Assert that all points are of the same dimensionality\n",
    "        for p in points:\n",
    "            if p.n != self.n:\n",
    "                raise Exception(\"ERROR: inconsistent dimensions\")\n",
    "\n",
    "        # Set up the initial centroid (this is usually based off one point)\n",
    "        self.centroid = self.calculateCentroid()\n",
    "\n",
    "    def __repr__(self):\n",
    "        '''\n",
    "        String representation of this object\n",
    "        '''\n",
    "        return str(self.points)\n",
    "\n",
    "    def update(self, points):\n",
    "        '''\n",
    "        Returns the distance between the previous centroid and the new after\n",
    "        recalculating and storing the new centroid.\n",
    "        Note: Initially we expect centroids to shift around a lot and then\n",
    "        gradually settle down.\n",
    "        '''\n",
    "        old_centroid = self.centroid\n",
    "        self.points = points\n",
    "        self.centroid = self.calculateCentroid()\n",
    "        shift = getDistance(old_centroid, self.centroid)\n",
    "        return shift\n",
    "\n",
    "    def calculateCentroid(self):\n",
    "        '''\n",
    "        Finds a virtual center point for a group of n-dimensional points\n",
    "        '''\n",
    "        numPoints = len(self.points)\n",
    "        # Get a list of all coordinates in this cluster\n",
    "        coords = [p.coords for p in self.points]\n",
    "        # Reformat that so all x's are together, all y'z etc.\n",
    "        unzipped = zip(*coords)\n",
    "        # Calculate the mean for each dimension\n",
    "        centroid_coords = [math.fsum(dList)/numPoints for dList in unzipped]\n",
    "\n",
    "        return Point(centroid_coords)"
   ]
  },
  {
   "cell_type": "code",
   "execution_count": 9,
   "metadata": {},
   "outputs": [
    {
     "name": "stdout",
     "output_type": "stream",
     "text": [
      "[[2.615767951360292, 1.8621362192246027], [0.6538667562890099, 2.560428991551247]]\n",
      "2\n",
      "[1.6348173538246509, 2.211282605387925]\n"
     ]
    }
   ],
   "source": [
    "# Assigment 3 \n",
    "points = [a,b]\n",
    "cluster = Cluster(points)\n",
    "\n",
    "print (cluster.points)\n",
    "print (cluster.n)\n",
    "print (cluster.centroid)"
   ]
  },
  {
   "cell_type": "code",
   "execution_count": 10,
   "metadata": {},
   "outputs": [],
   "source": [
    "# Helper method to plot a cluster\n",
    "import plotly\n",
    "from plotly.graph_objs import Scatter, Scatter3d, Layout\n",
    "import matplotlib.pyplot as plt\n",
    "\n",
    "def plotClusters(data, dimensions):\n",
    "    '''\n",
    "    This uses the plotly offline mode to create a local HTML file.\n",
    "    This should open your default web browser.\n",
    "    '''\n",
    "    if dimensions not in [2, 3]:\n",
    "        raise Exception(\"Plots are only available for 2 and 3 dimensional data\")\n",
    "\n",
    "    # Convert data into plotly format.\n",
    "    traceList = []\n",
    "    for i, c in enumerate(data):\n",
    "        # Get a list of x,y coordinates for the points in this cluster.\n",
    "        cluster_data = []\n",
    "        for point in c.points:\n",
    "            cluster_data.append(point.coords)\n",
    "\n",
    "        trace = {}\n",
    "        centroid = {}\n",
    "        if dimensions == 2:\n",
    "            # Convert our list of x,y's into an x list and a y list.\n",
    "            trace['x'], trace['y'] = zip(*cluster_data)\n",
    "            trace['mode'] = 'markers'\n",
    "            trace['marker'] = {}\n",
    "            trace['marker']['symbol'] = i\n",
    "            trace['marker']['size'] = 12\n",
    "            trace['name'] = \"Cluster \" + str(i)\n",
    "            traceList.append(Scatter(**trace))\n",
    "            # Centroid (A trace of length 1)\n",
    "            centroid['x'] = [c.centroid.coords[0]]\n",
    "            centroid['y'] = [c.centroid.coords[1]]\n",
    "            centroid['mode'] = 'markers'\n",
    "            centroid['marker'] = {}\n",
    "            centroid['marker']['symbol'] = i\n",
    "            centroid['marker']['color'] = 'rgb(200,10,10)'\n",
    "            centroid['name'] = \"Centroid \" + str(i)\n",
    "            traceList.append(Scatter(**centroid))\n",
    "        else:\n",
    "            symbols = [\n",
    "                \"circle\",\n",
    "                \"square\",\n",
    "                \"diamond\",\n",
    "                \"circle-open\",\n",
    "                \"square-open\",\n",
    "                \"diamond-open\",\n",
    "                \"cross\", \"x\"\n",
    "            ]\n",
    "            symbol_count = len(symbols)\n",
    "            if i > symbol_count:\n",
    "                print (\"Warning: Not enough marker symbols to go around\")\n",
    "            # Convert our list of x,y,z's separate lists.\n",
    "            trace['x'], trace['y'], trace['z'] = zip(*cluster_data)\n",
    "            trace['mode'] = 'markers'\n",
    "            trace['marker'] = {}\n",
    "            trace['marker']['symbol'] = symbols[i]\n",
    "            trace['marker']['size'] = 12\n",
    "            trace['name'] = \"Cluster \" + str(i)\n",
    "            traceList.append(Scatter3d(**trace))\n",
    "            # Centroid (A trace of length 1)\n",
    "            centroid['x'] = [c.centroid.coords[0]]\n",
    "            centroid['y'] = [c.centroid.coords[1]]\n",
    "            centroid['z'] = [c.centroid.coords[2]]\n",
    "            centroid['mode'] = 'markers'\n",
    "            centroid['marker'] = {}\n",
    "            centroid['marker']['symbol'] = symbols[i]\n",
    "            centroid['marker']['color'] = 'rgb(200,10,10)'\n",
    "            centroid['name'] = \"Centroid \" + str(i)\n",
    "            traceList.append(Scatter3d(**centroid))\n",
    "\n",
    "    title = \"K-means clustering with %s clusters\" % str(len(data))\n",
    "    plotly.offline.plot({\n",
    "        \"data\": traceList,\n",
    "        \"layout\": Layout(title=title)\n",
    "    })"
   ]
  },
  {
   "cell_type": "code",
   "execution_count": 11,
   "metadata": {},
   "outputs": [],
   "source": [
    "# Assigment 4\n",
    "plotClusters([cluster],2 )"
   ]
  },
  {
   "cell_type": "code",
   "execution_count": 12,
   "metadata": {},
   "outputs": [],
   "source": [
    "# create a cluster of 10 points and plot it\n",
    "points = [makeRandomPoint(2,0,10) for i in range(20)]\n",
    "\n",
    "cluster = Cluster(points)\n",
    "plotClusters([cluster],2)"
   ]
  },
  {
   "cell_type": "code",
   "execution_count": 13,
   "metadata": {},
   "outputs": [],
   "source": [
    "# the function that takes in the list of points and a value k that \n",
    "\n",
    "def kmeans(points, k, cutoff):\n",
    "\n",
    "    # Pick out k random points to use as our initial centroids\n",
    "    initial = random.sample(points, k)\n",
    "\n",
    "    # Create k clusters using those centroids\n",
    "    # Note: Cluster takes lists, so we wrap each point in a list here.\n",
    "    clusters = [Cluster([p]) for p in initial]\n",
    "\n",
    "    # Loop through the dataset until the clusters stabilize\n",
    "    loopCounter = 0\n",
    "    while True:\n",
    "        # Create a list of lists to hold the points in each cluster\n",
    "        lists = [[] for _ in clusters]\n",
    "        clusterCount = len(clusters)\n",
    "\n",
    "        # Start counting loops\n",
    "        loopCounter += 1\n",
    "        # For every point in the dataset ...\n",
    "        for p in points:\n",
    "            # Get the distance between that point and the centroid of the first\n",
    "            # cluster.\n",
    "            smallest_distance = getDistance(p, clusters[0].centroid)\n",
    "\n",
    "            # Set the cluster this point belongs to\n",
    "            clusterIndex = 0\n",
    "\n",
    "            # For the remainder of the clusters ...\n",
    "            for i in range(clusterCount - 1):\n",
    "                # calculate the distance of that point to each other cluster's\n",
    "                # centroid.\n",
    "                distance = getDistance(p, clusters[i+1].centroid) # Assignment\n",
    "                # If it's closer to that cluster's centroid update what we\n",
    "                # think the smallest distance is\n",
    "                \n",
    "                # Assigment - next 3 lines\n",
    "                if distance < smallest_distance:\n",
    "                    smallest_distance = distance\n",
    "                    clusterIndex = i+1\n",
    "                    \n",
    "            # After finding the cluster the smallest distance away\n",
    "            # set the point to belong to that cluster\n",
    "            lists[clusterIndex].append(p)\n",
    "\n",
    "        # Set our biggest_shift to zero for this iteration\n",
    "        biggest_shift = 0.0\n",
    "\n",
    "        # For each cluster ...\n",
    "        for i in range(clusterCount):\n",
    "            # Calculate how far the centroid moved in this iteration\n",
    "            shift = clusters[i].update(lists[i])\n",
    "            # Keep track of the largest move from all cluster centroid updates\n",
    "            biggest_shift = max(biggest_shift, shift)\n",
    "\n",
    "        # If the centroids have stopped moving much, say we're done!\n",
    "        if biggest_shift < cutoff:\n",
    "            print(\"Converged after %s iterations\" % loopCounter)\n",
    "            break\n",
    "    return clusters"
   ]
  },
  {
   "cell_type": "code",
   "execution_count": 14,
   "metadata": {},
   "outputs": [
    {
     "name": "stdout",
     "output_type": "stream",
     "text": [
      "Converged after 3 iterations\n",
      "cluster:0, points :[1.2998889422242677, 6.389285669960259]\n",
      "cluster:0, points :[0.037256901851570046, 8.954386962599393]\n",
      "cluster:0, points :[0.563861595551407, 6.04424382895195]\n",
      "cluster:0, points :[3.451806776953358, 8.560680876295638]\n",
      "cluster:1, points :[9.828889633583268, 5.241660249996158]\n",
      "cluster:1, points :[8.284303621671581, 7.058712167961135]\n",
      "cluster:1, points :[9.238831122072842, 8.797254170229774]\n",
      "cluster:1, points :[6.24210758220472, 6.97926385527949]\n",
      "cluster:1, points :[6.98585710852967, 9.180951859722802]\n",
      "cluster:1, points :[9.421579797391898, 9.221490795730363]\n",
      "cluster:2, points :[5.7487035655118115, 2.5430131463882066]\n",
      "cluster:2, points :[5.871434759923309, 3.113536840058837]\n",
      "cluster:2, points :[6.671884912863371, 2.2178067488410678]\n",
      "cluster:2, points :[3.680452860359419, 2.9703447850701146]\n",
      "cluster:2, points :[4.505387462056067, 3.793290154086153]\n",
      "cluster:2, points :[8.242851267704609, 2.3641167611954272]\n",
      "cluster:2, points :[2.293195957523988, 3.767979702003066]\n",
      "cluster:2, points :[4.086051315228689, 4.0019971748523755]\n",
      "cluster:2, points :[8.958002277961386, 1.2304641334199617]\n",
      "cluster:2, points :[3.9473507133813133, 3.9388063418340558]\n"
     ]
    }
   ],
   "source": [
    "no_of_clusters = 3\n",
    "cutoff = 0.2\n",
    "clusters = kmeans(points, no_of_clusters, cutoff)\n",
    "\n",
    "for i,c in enumerate(clusters):\n",
    "    for p in c.points:\n",
    "        print(\"cluster:\" + str(i) + \", points :\" + str(p))"
   ]
  },
  {
   "cell_type": "code",
   "execution_count": 17,
   "metadata": {},
   "outputs": [],
   "source": [
    "plotClusters(clusters, 2)"
   ]
  },
  {
   "cell_type": "markdown",
   "metadata": {},
   "source": [
    "# Play around"
   ]
  },
  {
   "cell_type": "code",
   "execution_count": 16,
   "metadata": {},
   "outputs": [],
   "source": [
    "# Assigment 5"
   ]
  }
 ],
 "metadata": {
  "kernelspec": {
   "display_name": "Python 3",
   "language": "python",
   "name": "python3"
  },
  "language_info": {
   "codemirror_mode": {
    "name": "ipython",
    "version": 3
   },
   "file_extension": ".py",
   "mimetype": "text/x-python",
   "name": "python",
   "nbconvert_exporter": "python",
   "pygments_lexer": "ipython3",
   "version": "3.7.3"
  }
 },
 "nbformat": 4,
 "nbformat_minor": 1
}
