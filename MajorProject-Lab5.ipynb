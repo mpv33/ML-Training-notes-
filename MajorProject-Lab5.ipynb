{
 "cells": [
  {
   "cell_type": "markdown",
   "metadata": {},
   "source": [
    "# Ads Recommendations System- Project\n"
   ]
  },
  {
   "cell_type": "code",
   "execution_count": 15,
   "metadata": {},
   "outputs": [],
   "source": [
    "import pandas as pd"
   ]
  },
  {
   "cell_type": "markdown",
   "metadata": {},
   "source": [
    "# Understanding the Problem Statement"
   ]
  },
  {
   "cell_type": "code",
   "execution_count": 31,
   "metadata": {},
   "outputs": [
    {
     "data": {
      "text/html": [
       "<div>\n",
       "<style scoped>\n",
       "    .dataframe tbody tr th:only-of-type {\n",
       "        vertical-align: middle;\n",
       "    }\n",
       "\n",
       "    .dataframe tbody tr th {\n",
       "        vertical-align: top;\n",
       "    }\n",
       "\n",
       "    .dataframe thead th {\n",
       "        text-align: right;\n",
       "    }\n",
       "</style>\n",
       "<table border=\"1\" class=\"dataframe\">\n",
       "  <thead>\n",
       "    <tr style=\"text-align: right;\">\n",
       "      <th></th>\n",
       "      <th>event_time</th>\n",
       "      <th>user_id</th>\n",
       "      <th>event</th>\n",
       "      <th>channel</th>\n",
       "      <th>user_lat</th>\n",
       "      <th>user_long</th>\n",
       "      <th>origin</th>\n",
       "      <th>ad_id</th>\n",
       "      <th>images_count</th>\n",
       "      <th>ad_impressions</th>\n",
       "      <th>ad_views</th>\n",
       "      <th>ad_messages</th>\n",
       "    </tr>\n",
       "  </thead>\n",
       "  <tbody>\n",
       "    <tr>\n",
       "      <th>0</th>\n",
       "      <td>2017-05-19 10:47:22</td>\n",
       "      <td>541</td>\n",
       "      <td>view</td>\n",
       "      <td>ios</td>\n",
       "      <td>-34.600439</td>\n",
       "      <td>-58.514031</td>\n",
       "      <td>browse_search</td>\n",
       "      <td>2426321</td>\n",
       "      <td>6.0</td>\n",
       "      <td>0.0</td>\n",
       "      <td>4.0</td>\n",
       "      <td>0.0</td>\n",
       "    </tr>\n",
       "    <tr>\n",
       "      <th>1</th>\n",
       "      <td>2017-06-10 10:18:12</td>\n",
       "      <td>501</td>\n",
       "      <td>view</td>\n",
       "      <td>android</td>\n",
       "      <td>-34.818047</td>\n",
       "      <td>-58.356583</td>\n",
       "      <td>browse_search</td>\n",
       "      <td>2746814</td>\n",
       "      <td>5.0</td>\n",
       "      <td>152.0</td>\n",
       "      <td>85.0</td>\n",
       "      <td>1.0</td>\n",
       "    </tr>\n",
       "    <tr>\n",
       "      <th>2</th>\n",
       "      <td>2017-06-11 00:44:57</td>\n",
       "      <td>559</td>\n",
       "      <td>view</td>\n",
       "      <td>android</td>\n",
       "      <td>-34.688454</td>\n",
       "      <td>-58.333435</td>\n",
       "      <td>browse</td>\n",
       "      <td>1123948</td>\n",
       "      <td>4.0</td>\n",
       "      <td>899.0</td>\n",
       "      <td>22.0</td>\n",
       "      <td>1.0</td>\n",
       "    </tr>\n",
       "    <tr>\n",
       "      <th>3</th>\n",
       "      <td>2017-05-22 02:36:06</td>\n",
       "      <td>637</td>\n",
       "      <td>first_message</td>\n",
       "      <td>android</td>\n",
       "      <td>-34.548401</td>\n",
       "      <td>-58.485168</td>\n",
       "      <td>search</td>\n",
       "      <td>2273498</td>\n",
       "      <td>NaN</td>\n",
       "      <td>0.0</td>\n",
       "      <td>21.0</td>\n",
       "      <td>2.0</td>\n",
       "    </tr>\n",
       "    <tr>\n",
       "      <th>4</th>\n",
       "      <td>2017-06-08 15:45:35</td>\n",
       "      <td>509</td>\n",
       "      <td>view</td>\n",
       "      <td>android</td>\n",
       "      <td>-34.582088</td>\n",
       "      <td>-58.405041</td>\n",
       "      <td>home</td>\n",
       "      <td>2722493</td>\n",
       "      <td>3.0</td>\n",
       "      <td>1529.0</td>\n",
       "      <td>132.0</td>\n",
       "      <td>3.0</td>\n",
       "    </tr>\n",
       "  </tbody>\n",
       "</table>\n",
       "</div>"
      ],
      "text/plain": [
       "            event_time  user_id          event  channel   user_lat  user_long  \\\n",
       "0  2017-05-19 10:47:22      541           view      ios -34.600439 -58.514031   \n",
       "1  2017-06-10 10:18:12      501           view  android -34.818047 -58.356583   \n",
       "2  2017-06-11 00:44:57      559           view  android -34.688454 -58.333435   \n",
       "3  2017-05-22 02:36:06      637  first_message  android -34.548401 -58.485168   \n",
       "4  2017-06-08 15:45:35      509           view  android -34.582088 -58.405041   \n",
       "\n",
       "          origin    ad_id  images_count  ad_impressions  ad_views  ad_messages  \n",
       "0  browse_search  2426321           6.0             0.0       4.0          0.0  \n",
       "1  browse_search  2746814           5.0           152.0      85.0          1.0  \n",
       "2         browse  1123948           4.0           899.0      22.0          1.0  \n",
       "3         search  2273498           NaN             0.0      21.0          2.0  \n",
       "4           home  2722493           3.0          1529.0     132.0          3.0  "
      ]
     },
     "execution_count": 31,
     "metadata": {},
     "output_type": "execute_result"
    }
   ],
   "source": [
    "user_data = pd.read_csv(r\"C:\\Users\\beni computer\\Desktop\\Geeks_lab\\week 5\\user_data.csv\")\n",
    "user_data.head()"
   ]
  },
  {
   "cell_type": "code",
   "execution_count": 17,
   "metadata": {},
   "outputs": [
    {
     "data": {
      "text/html": [
       "<div>\n",
       "<style scoped>\n",
       "    .dataframe tbody tr th:only-of-type {\n",
       "        vertical-align: middle;\n",
       "    }\n",
       "\n",
       "    .dataframe tbody tr th {\n",
       "        vertical-align: top;\n",
       "    }\n",
       "\n",
       "    .dataframe thead th {\n",
       "        text-align: right;\n",
       "    }\n",
       "</style>\n",
       "<table border=\"1\" class=\"dataframe\">\n",
       "  <thead>\n",
       "    <tr style=\"text-align: right;\">\n",
       "      <th></th>\n",
       "      <th>user_id</th>\n",
       "      <th>category_id</th>\n",
       "      <th>ads</th>\n",
       "    </tr>\n",
       "  </thead>\n",
       "  <tbody>\n",
       "    <tr>\n",
       "      <th>0</th>\n",
       "      <td>1</td>\n",
       "      <td>859</td>\n",
       "      <td>[1806476]</td>\n",
       "    </tr>\n",
       "    <tr>\n",
       "      <th>1</th>\n",
       "      <td>3</td>\n",
       "      <td>800</td>\n",
       "      <td>[2131700, 2734107, 2877209, 2877209]</td>\n",
       "    </tr>\n",
       "    <tr>\n",
       "      <th>2</th>\n",
       "      <td>4</td>\n",
       "      <td>815</td>\n",
       "      <td>[2883211]</td>\n",
       "    </tr>\n",
       "    <tr>\n",
       "      <th>3</th>\n",
       "      <td>7</td>\n",
       "      <td>815</td>\n",
       "      <td>[2429412, 2886810, 2886804]</td>\n",
       "    </tr>\n",
       "    <tr>\n",
       "      <th>4</th>\n",
       "      <td>7</td>\n",
       "      <td>362</td>\n",
       "      <td>[2909301]</td>\n",
       "    </tr>\n",
       "  </tbody>\n",
       "</table>\n",
       "</div>"
      ],
      "text/plain": [
       "   user_id  category_id                                   ads\n",
       "0        1          859                             [1806476]\n",
       "1        3          800  [2131700, 2734107, 2877209, 2877209]\n",
       "2        4          815                             [2883211]\n",
       "3        7          815           [2429412, 2886810, 2886804]\n",
       "4        7          362                             [2909301]"
      ]
     },
     "execution_count": 17,
     "metadata": {},
     "output_type": "execute_result"
    }
   ],
   "source": [
    "user_messages = pd.read_csv(r\"C:\\Users\\beni computer\\Desktop\\Geeks_lab\\week 5\\user_messages.csv\")\n",
    "user_messages.head()"
   ]
  },
  {
   "cell_type": "code",
   "execution_count": 36,
   "metadata": {},
   "outputs": [
    {
     "data": {
      "text/html": [
       "<div>\n",
       "<style scoped>\n",
       "    .dataframe tbody tr th:only-of-type {\n",
       "        vertical-align: middle;\n",
       "    }\n",
       "\n",
       "    .dataframe tbody tr th {\n",
       "        vertical-align: top;\n",
       "    }\n",
       "\n",
       "    .dataframe thead th {\n",
       "        text-align: right;\n",
       "    }\n",
       "</style>\n",
       "<table border=\"1\" class=\"dataframe\">\n",
       "  <thead>\n",
       "    <tr style=\"text-align: right;\">\n",
       "      <th></th>\n",
       "      <th>ad_id</th>\n",
       "      <th>category_id</th>\n",
       "      <th>seller_id</th>\n",
       "      <th>creation_time</th>\n",
       "      <th>title</th>\n",
       "      <th>description</th>\n",
       "      <th>price</th>\n",
       "      <th>lat</th>\n",
       "      <th>long</th>\n",
       "      <th>source</th>\n",
       "      <th>enabled</th>\n",
       "    </tr>\n",
       "  </thead>\n",
       "  <tbody>\n",
       "    <tr>\n",
       "      <th>0</th>\n",
       "      <td>1344</td>\n",
       "      <td>800</td>\n",
       "      <td>1157</td>\n",
       "      <td>2015-11-29 13:05:26</td>\n",
       "      <td>Blackberry curve</td>\n",
       "      <td>Funcionando, es para personal el único problem...</td>\n",
       "      <td>300.0</td>\n",
       "      <td>NaN</td>\n",
       "      <td>NaN</td>\n",
       "      <td>android</td>\n",
       "      <td>0</td>\n",
       "    </tr>\n",
       "    <tr>\n",
       "      <th>1</th>\n",
       "      <td>3916</td>\n",
       "      <td>815</td>\n",
       "      <td>59</td>\n",
       "      <td>2015-12-16 09:09:25</td>\n",
       "      <td>Remera marca premium alemana</td>\n",
       "      <td>Casi nuevo y sin uso. Lo compre online y me qu...</td>\n",
       "      <td>150.0</td>\n",
       "      <td>NaN</td>\n",
       "      <td>NaN</td>\n",
       "      <td>android</td>\n",
       "      <td>1</td>\n",
       "    </tr>\n",
       "    <tr>\n",
       "      <th>2</th>\n",
       "      <td>11738</td>\n",
       "      <td>806</td>\n",
       "      <td>12298</td>\n",
       "      <td>2016-01-19 18:38:24</td>\n",
       "      <td>Juego de sillones estilo campo</td>\n",
       "      <td>Divino juego de sillones de diseño campo</td>\n",
       "      <td>1500.0</td>\n",
       "      <td>NaN</td>\n",
       "      <td>NaN</td>\n",
       "      <td>android</td>\n",
       "      <td>1</td>\n",
       "    </tr>\n",
       "    <tr>\n",
       "      <th>3</th>\n",
       "      <td>14939</td>\n",
       "      <td>815</td>\n",
       "      <td>1349</td>\n",
       "      <td>2016-01-30 23:47:30</td>\n",
       "      <td>Zapatillas</td>\n",
       "      <td>Zapatillas nro 39 dos usos</td>\n",
       "      <td>250.0</td>\n",
       "      <td>NaN</td>\n",
       "      <td>NaN</td>\n",
       "      <td>android</td>\n",
       "      <td>0</td>\n",
       "    </tr>\n",
       "    <tr>\n",
       "      <th>4</th>\n",
       "      <td>16820</td>\n",
       "      <td>815</td>\n",
       "      <td>16365</td>\n",
       "      <td>2016-02-05 10:22:29</td>\n",
       "      <td>Vestido de seda negro</td>\n",
       "      <td>Vestido importado de usa. Muy fino y elegante ...</td>\n",
       "      <td>500.0</td>\n",
       "      <td>NaN</td>\n",
       "      <td>NaN</td>\n",
       "      <td>android</td>\n",
       "      <td>0</td>\n",
       "    </tr>\n",
       "  </tbody>\n",
       "</table>\n",
       "</div>"
      ],
      "text/plain": [
       "   ad_id  category_id  seller_id        creation_time  \\\n",
       "0   1344          800       1157  2015-11-29 13:05:26   \n",
       "1   3916          815         59  2015-12-16 09:09:25   \n",
       "2  11738          806      12298  2016-01-19 18:38:24   \n",
       "3  14939          815       1349  2016-01-30 23:47:30   \n",
       "4  16820          815      16365  2016-02-05 10:22:29   \n",
       "\n",
       "                            title  \\\n",
       "0                Blackberry curve   \n",
       "1    Remera marca premium alemana   \n",
       "2  Juego de sillones estilo campo   \n",
       "3                      Zapatillas   \n",
       "4           Vestido de seda negro   \n",
       "\n",
       "                                         description   price  lat  long  \\\n",
       "0  Funcionando, es para personal el único problem...   300.0  NaN   NaN   \n",
       "1  Casi nuevo y sin uso. Lo compre online y me qu...   150.0  NaN   NaN   \n",
       "2           Divino juego de sillones de diseño campo  1500.0  NaN   NaN   \n",
       "3                         Zapatillas nro 39 dos usos   250.0  NaN   NaN   \n",
       "4  Vestido importado de usa. Muy fino y elegante ...   500.0  NaN   NaN   \n",
       "\n",
       "    source  enabled  \n",
       "0  android        0  \n",
       "1  android        1  \n",
       "2  android        1  \n",
       "3  android        0  \n",
       "4  android        0  "
      ]
     },
     "execution_count": 36,
     "metadata": {},
     "output_type": "execute_result"
    }
   ],
   "source": [
    "ads_data = pd.read_csv(r\"C:\\Users\\beni computer\\Desktop\\Geeks_lab\\week 5\\ads_data.csv\")\n",
    "ads_data.head()"
   ]
  },
  {
   "cell_type": "markdown",
   "metadata": {},
   "source": [
    "# Recommending most popular elements"
   ]
  },
  {
   "cell_type": "code",
   "execution_count": 35,
   "metadata": {},
   "outputs": [],
   "source": [
    "df = user_data[['ad_id','ad_messages']].groupby('ad_id', as_index=False).agg('count')\n",
    "most_popular_ads = df.nlargest(10,['ad_messages'])['ad_id'].tolist()"
   ]
  },
  {
   "cell_type": "code",
   "execution_count": 20,
   "metadata": {},
   "outputs": [
    {
     "data": {
      "text/html": [
       "<div>\n",
       "<style scoped>\n",
       "    .dataframe tbody tr th:only-of-type {\n",
       "        vertical-align: middle;\n",
       "    }\n",
       "\n",
       "    .dataframe tbody tr th {\n",
       "        vertical-align: top;\n",
       "    }\n",
       "\n",
       "    .dataframe thead th {\n",
       "        text-align: right;\n",
       "    }\n",
       "</style>\n",
       "<table border=\"1\" class=\"dataframe\">\n",
       "  <thead>\n",
       "    <tr style=\"text-align: right;\">\n",
       "      <th></th>\n",
       "      <th>user_id</th>\n",
       "      <th>category_id</th>\n",
       "      <th>ads</th>\n",
       "      <th>recommend</th>\n",
       "    </tr>\n",
       "  </thead>\n",
       "  <tbody>\n",
       "    <tr>\n",
       "      <th>0</th>\n",
       "      <td>1</td>\n",
       "      <td>859</td>\n",
       "      <td>[1806476]</td>\n",
       "      <td>[2804693, 2794985, 2809690, 2814436, 26400, 28...</td>\n",
       "    </tr>\n",
       "    <tr>\n",
       "      <th>1</th>\n",
       "      <td>3</td>\n",
       "      <td>800</td>\n",
       "      <td>[2131700, 2734107, 2877209, 2877209]</td>\n",
       "      <td>[2804693, 2794985, 2809690, 2814436, 26400, 28...</td>\n",
       "    </tr>\n",
       "    <tr>\n",
       "      <th>2</th>\n",
       "      <td>4</td>\n",
       "      <td>815</td>\n",
       "      <td>[2883211]</td>\n",
       "      <td>[2804693, 2794985, 2809690, 2814436, 26400, 28...</td>\n",
       "    </tr>\n",
       "    <tr>\n",
       "      <th>3</th>\n",
       "      <td>7</td>\n",
       "      <td>815</td>\n",
       "      <td>[2429412, 2886810, 2886804]</td>\n",
       "      <td>[2804693, 2794985, 2809690, 2814436, 26400, 28...</td>\n",
       "    </tr>\n",
       "    <tr>\n",
       "      <th>4</th>\n",
       "      <td>7</td>\n",
       "      <td>362</td>\n",
       "      <td>[2909301]</td>\n",
       "      <td>[2804693, 2794985, 2809690, 2814436, 26400, 28...</td>\n",
       "    </tr>\n",
       "  </tbody>\n",
       "</table>\n",
       "</div>"
      ],
      "text/plain": [
       "   user_id  category_id                                   ads  \\\n",
       "0        1          859                             [1806476]   \n",
       "1        3          800  [2131700, 2734107, 2877209, 2877209]   \n",
       "2        4          815                             [2883211]   \n",
       "3        7          815           [2429412, 2886810, 2886804]   \n",
       "4        7          362                             [2909301]   \n",
       "\n",
       "                                           recommend  \n",
       "0  [2804693, 2794985, 2809690, 2814436, 26400, 28...  \n",
       "1  [2804693, 2794985, 2809690, 2814436, 26400, 28...  \n",
       "2  [2804693, 2794985, 2809690, 2814436, 26400, 28...  \n",
       "3  [2804693, 2794985, 2809690, 2814436, 26400, 28...  \n",
       "4  [2804693, 2794985, 2809690, 2814436, 26400, 28...  "
      ]
     },
     "execution_count": 20,
     "metadata": {},
     "output_type": "execute_result"
    }
   ],
   "source": [
    "sub1 = user_messages \n",
    "sub1['recommend'] = str(most_popular_ads)\n",
    "sub1.head()"
   ]
  },
  {
   "cell_type": "markdown",
   "metadata": {},
   "source": [
    "# Model Evaluation"
   ]
  },
  {
   "cell_type": "code",
   "execution_count": 37,
   "metadata": {},
   "outputs": [],
   "source": [
    "def evaluate_accuracy(df):\n",
    "    \n",
    "    count = 0\n",
    "    for index, row in df.iterrows():\n",
    "        ads = row['ads'].replace('[','').replace(']','').split(',')\n",
    "        recommended_ads = row['recommend'].replace('[','').replace(']','').split(',')\n",
    "        \n",
    "        for ad in ads:\n",
    "            if (ad in recommended_ads):\n",
    "                count = count + 1\n",
    "                \n",
    "    return count\n",
    "                "
   ]
  },
  {
   "cell_type": "code",
   "execution_count": 38,
   "metadata": {},
   "outputs": [],
   "source": [
    "def evaluate_precision(df):\n",
    "    \n",
    "    score = 0\n",
    "    for index, row in df.iterrows():\n",
    "        count = 0\n",
    "        ads = row['ads'].replace('[','').replace(']','').split(',')\n",
    "        recommended_ads = row['recommend'].replace('[','').replace(']','').split(',')\n",
    "        \n",
    "        for i in range(0, len(recommended_ads)):\n",
    "            if (recommended_ads[i] in ads):\n",
    "                count = count + 1\n",
    "                score = score + count\n",
    "        \n",
    "        #print(ads, \":\", recommended_ads,\":\" ,score)\n",
    "        score = 1.0*score/len(ads)\n",
    "        \n",
    "                \n",
    "    return score\n",
    "                "
   ]
  },
  {
   "cell_type": "code",
   "execution_count": 39,
   "metadata": {},
   "outputs": [
    {
     "name": "stdout",
     "output_type": "stream",
     "text": [
      "accuracy of model 1 :  38\n",
      "precision of model 1 :  8.356321959541373e-22\n"
     ]
    }
   ],
   "source": [
    "print('accuracy of model 1 : ',evaluate_accuracy(sub1))\n",
    "print('precision of model 1 : ',evaluate_precision(sub1))"
   ]
  },
  {
   "cell_type": "markdown",
   "metadata": {},
   "source": [
    "# Recommending category-wise most popular elements"
   ]
  },
  {
   "cell_type": "code",
   "execution_count": 41,
   "metadata": {},
   "outputs": [],
   "source": [
    "df = user_data[['ad_id','ad_views']].groupby('ad_id', as_index=False).agg('sum')\n",
    "most_popular_ads = df.nlargest(10,['ad_views'])['ad_id'].tolist()"
   ]
  },
  {
   "cell_type": "code",
   "execution_count": 42,
   "metadata": {},
   "outputs": [],
   "source": [
    "df1 = user_data[['ad_id','ad_views']]\n",
    "df2 = ads_data[['ad_id','category_id']]\n",
    "merged_data = pd.merge(df1, df2, on='ad_id')"
   ]
  },
  {
   "cell_type": "code",
   "execution_count": 43,
   "metadata": {},
   "outputs": [],
   "source": [
    "most_popular_ads_catwise = merged_data.groupby(['category_id','ad_id'], as_index=False).agg('count')"
   ]
  },
  {
   "cell_type": "code",
   "execution_count": 27,
   "metadata": {},
   "outputs": [
    {
     "data": {
      "text/plain": [
       "array([362, 800, 806, 811, 815, 853, 859, 881, 887, 888], dtype=int64)"
      ]
     },
     "execution_count": 27,
     "metadata": {},
     "output_type": "execute_result"
    }
   ],
   "source": [
    "df = most_popular_ads_catwise\n",
    "cats = df.category_id.unique()\n",
    "cats"
   ]
  },
  {
   "cell_type": "code",
   "execution_count": 28,
   "metadata": {},
   "outputs": [
    {
     "name": "stdout",
     "output_type": "stream",
     "text": [
      "{362: [2757104, 2836886, 2853312, 2560201, 2449079, 2806018, 2598159, 1704736, 2661821, 333573], 800: [2814436, 2806603, 2816630, 2816336, 2802819, 2031170, 2739908, 2649805, 2587910, 2737601], 806: [2804693, 2809690, 26400, 2825119, 2788868, 2764905, 2785533, 2516918, 2822691, 2336966], 811: [2626729, 2764838, 1928465, 2753896, 2597250, 2727592, 2839093, 2670023, 2746309, 2667189], 815: [2234932, 2434247, 2796911, 2812937, 2812849, 2719785, 2342155, 2816482, 2748424, 2434257], 853: [2853382, 2839832, 2082120, 2564683, 1190194, 2613818, 2632665, 2774269, 2832788, 2813016], 859: [2449447, 2567368, 2426549, 2274484, 1998464, 2740230, 2067241, 2778369, 1065275, 2842601], 881: [2794985, 2816864, 2817712, 2840833, 2727695, 2519508, 2662331, 2767340, 2846976, 2688815], 887: [2852082, 2677927, 2802433, 2634993, 2696625, 2714941, 2592955, 2810869, 1699375, 2031454], 888: [2254453, 2827386, 2740665, 2578937, 2826518, 2808111, 2826051, 2808047, 2808064, 2827584]}\n"
     ]
    }
   ],
   "source": [
    "cat_dict = {}\n",
    "for cat in cats:\n",
    "    df1 = df[df['category_id']==cat]\n",
    "    cat_dict[cat] = df1.nlargest(10,['ad_views'])['ad_id'].tolist()\n",
    "    \n",
    "print(cat_dict)"
   ]
  },
  {
   "cell_type": "code",
   "execution_count": 29,
   "metadata": {},
   "outputs": [
    {
     "data": {
      "text/html": [
       "<div>\n",
       "<style scoped>\n",
       "    .dataframe tbody tr th:only-of-type {\n",
       "        vertical-align: middle;\n",
       "    }\n",
       "\n",
       "    .dataframe tbody tr th {\n",
       "        vertical-align: top;\n",
       "    }\n",
       "\n",
       "    .dataframe thead th {\n",
       "        text-align: right;\n",
       "    }\n",
       "</style>\n",
       "<table border=\"1\" class=\"dataframe\">\n",
       "  <thead>\n",
       "    <tr style=\"text-align: right;\">\n",
       "      <th></th>\n",
       "      <th>user_id</th>\n",
       "      <th>category_id</th>\n",
       "      <th>ads</th>\n",
       "      <th>recommend</th>\n",
       "    </tr>\n",
       "  </thead>\n",
       "  <tbody>\n",
       "    <tr>\n",
       "      <th>0</th>\n",
       "      <td>1</td>\n",
       "      <td>859</td>\n",
       "      <td>[1806476]</td>\n",
       "      <td>[2449447, 2567368, 2426549, 2274484, 1998464, ...</td>\n",
       "    </tr>\n",
       "    <tr>\n",
       "      <th>1</th>\n",
       "      <td>3</td>\n",
       "      <td>800</td>\n",
       "      <td>[2131700, 2734107, 2877209, 2877209]</td>\n",
       "      <td>[2814436, 2806603, 2816630, 2816336, 2802819, ...</td>\n",
       "    </tr>\n",
       "    <tr>\n",
       "      <th>2</th>\n",
       "      <td>4</td>\n",
       "      <td>815</td>\n",
       "      <td>[2883211]</td>\n",
       "      <td>[2234932, 2434247, 2796911, 2812937, 2812849, ...</td>\n",
       "    </tr>\n",
       "    <tr>\n",
       "      <th>3</th>\n",
       "      <td>7</td>\n",
       "      <td>815</td>\n",
       "      <td>[2429412, 2886810, 2886804]</td>\n",
       "      <td>[2234932, 2434247, 2796911, 2812937, 2812849, ...</td>\n",
       "    </tr>\n",
       "    <tr>\n",
       "      <th>4</th>\n",
       "      <td>7</td>\n",
       "      <td>362</td>\n",
       "      <td>[2909301]</td>\n",
       "      <td>[2757104, 2836886, 2853312, 2560201, 2449079, ...</td>\n",
       "    </tr>\n",
       "  </tbody>\n",
       "</table>\n",
       "</div>"
      ],
      "text/plain": [
       "   user_id  category_id                                   ads  \\\n",
       "0        1          859                             [1806476]   \n",
       "1        3          800  [2131700, 2734107, 2877209, 2877209]   \n",
       "2        4          815                             [2883211]   \n",
       "3        7          815           [2429412, 2886810, 2886804]   \n",
       "4        7          362                             [2909301]   \n",
       "\n",
       "                                           recommend  \n",
       "0  [2449447, 2567368, 2426549, 2274484, 1998464, ...  \n",
       "1  [2814436, 2806603, 2816630, 2816336, 2802819, ...  \n",
       "2  [2234932, 2434247, 2796911, 2812937, 2812849, ...  \n",
       "3  [2234932, 2434247, 2796911, 2812937, 2812849, ...  \n",
       "4  [2757104, 2836886, 2853312, 2560201, 2449079, ...  "
      ]
     },
     "execution_count": 29,
     "metadata": {},
     "output_type": "execute_result"
    }
   ],
   "source": [
    "def recommend(row):\n",
    "    return str(cat_dict[row['category_id']])\n",
    "\n",
    "sub2 = user_messages \n",
    "sub2['recommend'] = sub2.apply(recommend, axis = 1)\n",
    "sub2.head()"
   ]
  },
  {
   "cell_type": "code",
   "execution_count": 45,
   "metadata": {},
   "outputs": [
    {
     "name": "stdout",
     "output_type": "stream",
     "text": [
      "accuracy of model 2 :  38\n",
      "precision of model 2 :  8.356321959541373e-22\n"
     ]
    }
   ],
   "source": [
    "print('accuracy of model 2 : ',evaluate_accuracy(sub2))\n",
    "print('precision of model 2 : ',evaluate_precision(sub2))"
   ]
  },
  {
   "cell_type": "code",
   "execution_count": null,
   "metadata": {},
   "outputs": [],
   "source": []
  }
 ],
 "metadata": {
  "kernelspec": {
   "display_name": "Python 3",
   "language": "python",
   "name": "python3"
  },
  "language_info": {
   "codemirror_mode": {
    "name": "ipython",
    "version": 3
   },
   "file_extension": ".py",
   "mimetype": "text/x-python",
   "name": "python",
   "nbconvert_exporter": "python",
   "pygments_lexer": "ipython3",
   "version": "3.7.3"
  }
 },
 "nbformat": 4,
 "nbformat_minor": 2
}
